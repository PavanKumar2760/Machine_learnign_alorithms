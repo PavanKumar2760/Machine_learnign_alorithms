{
 "cells": [
  {
   "cell_type": "markdown",
   "id": "3ffde4f7",
   "metadata": {},
   "source": [
    "Here we have been given the data set that we will be finding the best corelation between \n",
    "math and cs score and need to stop the for loop in to the threshhold stated in the tutorial. \n"
   ]
  },
  {
   "cell_type": "code",
   "execution_count": 17,
   "id": "f7f67b72",
   "metadata": {},
   "outputs": [],
   "source": [
    "\n",
    "\n",
    "\n",
    "import numpy as np\n",
    "def gradient_descent(x,y):\n",
    "    learning_rate = 0.1\n",
    "    iterations = 100\n",
    "    m_curr = 0    # initial guess \n",
    "    b_curr = 0    # initial guess\n",
    "    n = len(x)\n",
    "    cost_previous = 0\n",
    "    for i in range(iterations):\n",
    "        y_predicted = m_curr * x + b_curr\n",
    "        cost = (1/n)* sum([val**2 for val in (y - y_predicted)])\n",
    "        md = -(2/n)*(sum(x*(y-y_predicted)))\n",
    "        bd = -(2/n)*(sum(y-y_predicted))\n",
    "        m_curr = m_curr -learning_rate * md \n",
    "        b_curr = b_curr - learning_rate * bd\n",
    "        if math.isclose(cost , cost_previous, rel_tol = 1e-20 ):\n",
    "            break\n",
    "        cost_previous = cost\n",
    "#         print(\"m{}, bv{}, cost{}, iteration{}\". format(m_curr, b_curr, cost, i))\n",
    "    return m_curr, b_curr,i\n"
   ]
  },
  {
   "cell_type": "code",
   "execution_count": 18,
   "id": "2aa39377",
   "metadata": {},
   "outputs": [],
   "source": [
    "import pandas as pd\n",
    "import math\n",
    "df = pd.read_excel('Gradient_descent_ex.xlsx')\n",
    "df\n",
    "\n",
    "x = np.array(df.math)\n",
    "y = np.array(df.CS)"
   ]
  },
  {
   "cell_type": "code",
   "execution_count": 20,
   "id": "7fcadb5b",
   "metadata": {},
   "outputs": [
    {
     "data": {
      "text/plain": [
       "array([92, 56, 88, 70, 80, 49, 65, 35, 66, 67])"
      ]
     },
     "execution_count": 20,
     "metadata": {},
     "output_type": "execute_result"
    }
   ],
   "source": [
    "x"
   ]
  },
  {
   "cell_type": "code",
   "execution_count": 21,
   "id": "8db8ca7b",
   "metadata": {},
   "outputs": [
    {
     "data": {
      "text/plain": [
       "array([98, 68, 81, 80, 83, 52, 66, 30, 68, 73])"
      ]
     },
     "execution_count": 21,
     "metadata": {},
     "output_type": "execute_result"
    }
   ],
   "source": [
    "y"
   ]
  },
  {
   "cell_type": "code",
   "execution_count": 22,
   "id": "c395699a",
   "metadata": {},
   "outputs": [
    {
     "name": "stdout",
     "output_type": "stream",
     "text": [
      "slope = -5.209158142223593e+160, intercept = -7.350569977368983e+158, iteration=53\n"
     ]
    },
    {
     "name": "stderr",
     "output_type": "stream",
     "text": [
      "/var/folders/ry/cpzzpnh51yvfh6ctzlsm0jsw0000gn/T/ipykernel_2974/536711253.py:16: RuntimeWarning: overflow encountered in scalar power\n",
      "  cost = (1/n)* sum([val**2 for val in (y - y_predicted)])\n"
     ]
    }
   ],
   "source": [
    "m , b, i = gradient_descent(x,y)\n",
    "\n",
    "print(\"slope = {}, intercept = {}, iteration={}\".format(m, b,i))"
   ]
  },
  {
   "cell_type": "code",
   "execution_count": null,
   "id": "b2679bb9",
   "metadata": {},
   "outputs": [],
   "source": []
  }
 ],
 "metadata": {
  "kernelspec": {
   "display_name": "Python 3 (ipykernel)",
   "language": "python",
   "name": "python3"
  },
  "language_info": {
   "codemirror_mode": {
    "name": "ipython",
    "version": 3
   },
   "file_extension": ".py",
   "mimetype": "text/x-python",
   "name": "python",
   "nbconvert_exporter": "python",
   "pygments_lexer": "ipython3",
   "version": "3.8.10"
  }
 },
 "nbformat": 4,
 "nbformat_minor": 5
}
